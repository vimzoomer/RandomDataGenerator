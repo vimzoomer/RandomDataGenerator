{
 "cells": [
  {
   "cell_type": "raw",
   "source": [],
   "metadata": {
    "collapsed": false
   },
   "id": "3f866627273ec48f"
  },
  {
   "cell_type": "code",
   "source": [
    "from generator import *"
   ],
   "metadata": {
    "collapsed": false,
    "ExecuteTime": {
     "end_time": "2025-01-26T15:43:51.833787Z",
     "start_time": "2025-01-26T15:43:51.751023Z"
    }
   },
   "id": "eff765e713813ec",
   "outputs": [],
   "execution_count": 1
  },
  {
   "cell_type": "code",
   "source": [
    "dm = DatabaseManager()\n",
    "dg = DataGenerator()"
   ],
   "metadata": {
    "collapsed": false,
    "ExecuteTime": {
     "end_time": "2025-01-26T15:43:53.653210Z",
     "start_time": "2025-01-26T15:43:52.993457Z"
    }
   },
   "id": "38b705a230d066ae",
   "outputs": [],
   "execution_count": 2
  },
  {
   "cell_type": "code",
   "source": "dg.insert_to_employee(10)",
   "metadata": {
    "collapsed": false,
    "ExecuteTime": {
     "end_time": "2025-01-26T15:44:04.254185Z",
     "start_time": "2025-01-26T15:44:03.198446Z"
    }
   },
   "id": "6bb9ca53b24bfe8f",
   "outputs": [],
   "execution_count": 3
  },
  {
   "cell_type": "code",
   "source": "dg.insert_to_user(10)",
   "metadata": {
    "collapsed": false,
    "ExecuteTime": {
     "end_time": "2025-01-26T15:44:06.987224Z",
     "start_time": "2025-01-26T15:44:05.994900Z"
    }
   },
   "id": "2326ed905f25df79",
   "outputs": [],
   "execution_count": 4
  },
  {
   "cell_type": "code",
   "source": "dg.insert_studies_programme(30)",
   "metadata": {
    "collapsed": false,
    "ExecuteTime": {
     "end_time": "2025-01-26T15:44:14.763043Z",
     "start_time": "2025-01-26T15:44:11.738858Z"
    }
   },
   "id": "59f9761e694f84a1",
   "outputs": [],
   "execution_count": 5
  },
  {
   "cell_type": "code",
   "source": "dg.insert_studies_module(30)",
   "metadata": {
    "collapsed": false,
    "ExecuteTime": {
     "end_time": "2025-01-26T15:44:20.613137Z",
     "start_time": "2025-01-26T15:44:17.535543Z"
    }
   },
   "id": "f05ae9da2abb7067",
   "outputs": [],
   "execution_count": 6
  },
  {
   "cell_type": "code",
   "source": "dg.insert_studies(30)",
   "metadata": {
    "collapsed": false,
    "ExecuteTime": {
     "end_time": "2025-01-26T15:44:24.837594Z",
     "start_time": "2025-01-26T15:44:21.760722Z"
    }
   },
   "id": "ad4a1087a215bf21",
   "outputs": [],
   "execution_count": 7
  },
  {
   "cell_type": "code",
   "execution_count": 9,
   "outputs": [],
   "source": [
    "#dg.insert_course(100)"
   ],
   "metadata": {
    "collapsed": false,
    "ExecuteTime": {
     "end_time": "2025-01-20T22:11:11.500349Z",
     "start_time": "2025-01-20T22:11:01.251091Z"
    }
   },
   "id": "51ea36dfdc780218"
  },
  {
   "cell_type": "code",
   "execution_count": null,
   "outputs": [],
   "source": [
    "#dg.insert_webinars(100)"
   ],
   "metadata": {
    "collapsed": false,
    "ExecuteTime": {
     "start_time": "2025-01-20T12:50:06.863230Z"
    }
   },
   "id": "89b2f82f24b6eb2a"
  },
  {
   "cell_type": "code",
   "source": "dg.insert_module(30)",
   "metadata": {
    "collapsed": false,
    "ExecuteTime": {
     "end_time": "2025-01-26T15:44:31.645502Z",
     "start_time": "2025-01-26T15:44:27.327025Z"
    }
   },
   "id": "523edee7e2346400",
   "outputs": [],
   "execution_count": 8
  },
  {
   "cell_type": "code",
   "source": "dg.insert_meeting(30)",
   "metadata": {
    "collapsed": false,
    "ExecuteTime": {
     "end_time": "2025-01-26T15:34:26.890563Z",
     "start_time": "2025-01-26T15:33:52.809073Z"
    }
   },
   "id": "630902797b740e29",
   "outputs": [],
   "execution_count": 10
  },
  {
   "cell_type": "code",
   "execution_count": 13,
   "outputs": [
    {
     "name": "stdout",
     "output_type": "stream",
     "text": [
      "Order: \n",
      "947 2025-01-05 Unit 5032 Box 4642 DPO AE 42489 East Charlestown\n",
      "Order details: \n",
      "(827, datetime.date(2025, 1, 18))\n",
      "Order details: \n",
      "(778, datetime.date(2025, 1, 15))\n",
      "Order details: \n",
      "(753, datetime.date(2025, 1, 3))\n",
      "Order details: \n",
      "(808, datetime.date(2025, 1, 9))\n",
      "Order details: \n",
      "(640, datetime.date(2025, 1, 7))\n"
     ]
    }
   ],
   "source": [
    "#dg.insert_orders(1)"
   ],
   "metadata": {
    "collapsed": false,
    "ExecuteTime": {
     "end_time": "2025-01-20T22:22:37.946848Z",
     "start_time": "2025-01-20T22:22:37.210407Z"
    }
   },
   "id": "d70e651c5aa20d17"
  },
  {
   "cell_type": "code",
   "execution_count": null,
   "outputs": [],
   "source": [],
   "metadata": {
    "collapsed": false,
    "ExecuteTime": {
     "start_time": "2025-01-20T12:50:06.865587Z"
    }
   },
   "id": "4decf5e9b07c49ca"
  }
 ],
 "metadata": {
  "kernelspec": {
   "display_name": "Python 3 (ipykernel)",
   "language": "python",
   "name": "python3"
  },
  "language_info": {
   "codemirror_mode": {
    "name": "ipython",
    "version": 3
   },
   "file_extension": ".py",
   "mimetype": "text/x-python",
   "name": "python",
   "nbconvert_exporter": "python",
   "pygments_lexer": "ipython3",
   "version": "3.12.4"
  }
 },
 "nbformat": 4,
 "nbformat_minor": 5
}
