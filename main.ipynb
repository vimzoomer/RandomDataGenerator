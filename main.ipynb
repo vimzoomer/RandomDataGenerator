{
 "cells": [
  {
   "cell_type": "raw",
   "source": [],
   "metadata": {
    "collapsed": false
   }
  },
  {
   "cell_type": "code",
   "execution_count": 1,
   "outputs": [],
   "source": [
    "from generator import *"
   ],
   "metadata": {
    "collapsed": false,
    "ExecuteTime": {
     "end_time": "2025-01-20T21:38:10.592182Z",
     "start_time": "2025-01-20T21:38:10.452739Z"
    }
   }
  },
  {
   "cell_type": "code",
   "execution_count": 2,
   "outputs": [],
   "source": [
    "dm = DatabaseManager()\n",
    "dg = DataGenerator()"
   ],
   "metadata": {
    "collapsed": false,
    "ExecuteTime": {
     "end_time": "2025-01-20T21:38:11.851744Z",
     "start_time": "2025-01-20T21:38:11.148656Z"
    }
   }
  },
  {
   "cell_type": "code",
   "execution_count": 4,
   "outputs": [],
   "source": [
    "dg.insert_to_employee(50)"
   ],
   "metadata": {
    "collapsed": false,
    "ExecuteTime": {
     "end_time": "2025-01-20T22:07:59.150592Z",
     "start_time": "2025-01-20T22:07:54.548815Z"
    }
   }
  },
  {
   "cell_type": "code",
   "execution_count": 5,
   "outputs": [],
   "source": [
    "dg.insert_to_user(50)"
   ],
   "metadata": {
    "collapsed": false,
    "ExecuteTime": {
     "end_time": "2025-01-20T22:08:05.838281Z",
     "start_time": "2025-01-20T22:08:01.390133Z"
    }
   }
  },
  {
   "cell_type": "code",
   "execution_count": 6,
   "outputs": [],
   "source": [
    "dg.insert_studies_programme(100)"
   ],
   "metadata": {
    "collapsed": false,
    "ExecuteTime": {
     "end_time": "2025-01-20T22:08:23.426019Z",
     "start_time": "2025-01-20T22:08:14.353291Z"
    }
   }
  },
  {
   "cell_type": "code",
   "execution_count": 7,
   "outputs": [],
   "source": [
    "dg.insert_studies_module(100)"
   ],
   "metadata": {
    "collapsed": false,
    "ExecuteTime": {
     "end_time": "2025-01-20T22:08:33.509913Z",
     "start_time": "2025-01-20T22:08:24.319511Z"
    }
   }
  },
  {
   "cell_type": "code",
   "execution_count": 8,
   "outputs": [],
   "source": [
    "dg.insert_studies(20)"
   ],
   "metadata": {
    "collapsed": false,
    "ExecuteTime": {
     "end_time": "2025-01-20T22:10:51.335239Z",
     "start_time": "2025-01-20T22:10:48.506276Z"
    }
   }
  },
  {
   "cell_type": "code",
   "execution_count": 9,
   "outputs": [],
   "source": [
    "dg.insert_course(100)"
   ],
   "metadata": {
    "collapsed": false,
    "ExecuteTime": {
     "end_time": "2025-01-20T22:11:11.500349Z",
     "start_time": "2025-01-20T22:11:01.251091Z"
    }
   }
  },
  {
   "cell_type": "code",
   "execution_count": null,
   "outputs": [],
   "source": [
    "dg.insert_webinars(100)"
   ],
   "metadata": {
    "collapsed": false,
    "ExecuteTime": {
     "start_time": "2025-01-20T12:50:06.863230Z"
    }
   }
  },
  {
   "cell_type": "code",
   "execution_count": 11,
   "outputs": [],
   "source": [
    "dg.insert_module(100)"
   ],
   "metadata": {
    "collapsed": false,
    "ExecuteTime": {
     "end_time": "2025-01-20T22:18:06.338910Z",
     "start_time": "2025-01-20T22:17:54.233396Z"
    }
   }
  },
  {
   "cell_type": "code",
   "execution_count": 12,
   "outputs": [],
   "source": [
    "dg.insert_meeting(300)"
   ],
   "metadata": {
    "collapsed": false,
    "ExecuteTime": {
     "end_time": "2025-01-20T22:19:13.778753Z",
     "start_time": "2025-01-20T22:18:42.304847Z"
    }
   }
  },
  {
   "cell_type": "code",
   "execution_count": 13,
   "outputs": [
    {
     "name": "stdout",
     "output_type": "stream",
     "text": [
      "Order: \n",
      "947 2025-01-05 Unit 5032 Box 4642 DPO AE 42489 East Charlestown\n",
      "Order details: \n",
      "(827, datetime.date(2025, 1, 18))\n",
      "Order details: \n",
      "(778, datetime.date(2025, 1, 15))\n",
      "Order details: \n",
      "(753, datetime.date(2025, 1, 3))\n",
      "Order details: \n",
      "(808, datetime.date(2025, 1, 9))\n",
      "Order details: \n",
      "(640, datetime.date(2025, 1, 7))\n"
     ]
    }
   ],
   "source": [
    "dg.insert_orders(1)"
   ],
   "metadata": {
    "collapsed": false,
    "ExecuteTime": {
     "end_time": "2025-01-20T22:22:37.946848Z",
     "start_time": "2025-01-20T22:22:37.210407Z"
    }
   }
  },
  {
   "cell_type": "code",
   "execution_count": null,
   "outputs": [],
   "source": [],
   "metadata": {
    "collapsed": false,
    "ExecuteTime": {
     "start_time": "2025-01-20T12:50:06.865587Z"
    }
   }
  }
 ],
 "metadata": {
  "kernelspec": {
   "display_name": "Python 3 (ipykernel)",
   "language": "python",
   "name": "python3"
  },
  "language_info": {
   "codemirror_mode": {
    "name": "ipython",
    "version": 3
   },
   "file_extension": ".py",
   "mimetype": "text/x-python",
   "name": "python",
   "nbconvert_exporter": "python",
   "pygments_lexer": "ipython3",
   "version": "3.12.4"
  }
 },
 "nbformat": 4,
 "nbformat_minor": 5
}
